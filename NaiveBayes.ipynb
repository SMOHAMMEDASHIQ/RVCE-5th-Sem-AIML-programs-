{
 "cells": [
  {
   "cell_type": "code",
   "execution_count": 2,
   "id": "131c2c99",
   "metadata": {},
   "outputs": [],
   "source": [
    "import numpy as np\n",
    "class NaiveBayers:\n",
    "    def fit(self,X,y):\n",
    "        self.classes=np.unique(y)\n",
    "        self.n_classes=len(self.classes)\n",
    "        self.n_samples,self.n_features=X.shape\n",
    "        \n",
    "        self.mean=np.zeros((self.n_classes,self.n_features),dtype=np.float64)\n",
    "        self.var=np.zeros((self.n_classes,self.n_features),dtype=np.float64)\n",
    "        self.prior=np.zeros(self.n_classes,dtype=np.float64)\n",
    "        \n",
    "        for i,c in enumerate(self.classes):\n",
    "            x_c=X[y==c]\n",
    "            self.prior[i]=x_c.shape[0]/float(self.n_samples)\n",
    "            self.mean[i,:]=x_c.mean(axis=0)\n",
    "            self.var[i,:]=x_c.var(axis=0)\n",
    "    \n",
    "    def predictions(self,X):\n",
    "        pred=[self.predict(x) for x in X]\n",
    "        return pred\n",
    "            \n",
    "    def predict(self,x):\n",
    "        posteriors=[]\n",
    "        for i,c in enumerate(self.classes):\n",
    "            prior=np.log(self.prior[i])\n",
    "            gaussian=np.sum(np.log(self.pdf(i,x)))\n",
    "            gaussian+=prior\n",
    "            posteriors.append(gaussian)\n",
    "        return self.classes[np.argmax(posteriors)]\n",
    "    \n",
    "    def pdf(self,i,x):\n",
    "        mean=self.mean[i]\n",
    "        var=self.var[i]\n",
    "        num=np.exp(-((x-mean)**2)/(2*var))\n",
    "        den=np.sqrt(2*np.pi*var)\n",
    "        return num/den"
   ]
  },
  {
   "cell_type": "code",
   "execution_count": 9,
   "id": "135543d3",
   "metadata": {},
   "outputs": [
    {
     "name": "stdout",
     "output_type": "stream",
     "text": [
      "96.5%"
     ]
    }
   ],
   "source": [
    "from sklearn.model_selection import train_test_split\n",
    "from sklearn import datasets\n",
    "\n",
    "x,y=datasets.make_classification(n_samples=1000 , n_classes=2, n_features=10,random_state=123)\n",
    "x_train,x_test,y_train,y_test=train_test_split(x,y,test_size=0.2,random_state=123)\n",
    "def accuracy(y_true,y_pred):\n",
    "    return np.sum(y_pred==y_true)/len(y_test)\n",
    "\n",
    "nb=NaiveBayers()\n",
    "nb.fit(x_train,y_train)\n",
    "pred=nb.predictions(x_test)\n",
    "print(accuracy(pred,y_test)*100,end=\"%\" )"
   ]
  },
  {
   "cell_type": "code",
   "execution_count": 2,
   "id": "0a18fb19",
   "metadata": {},
   "outputs": [
    {
     "name": "stdout",
     "output_type": "stream",
     "text": [
      "0.9333333333333333\n"
     ]
    }
   ],
   "source": [
    "import numpy as np\n",
    "from sklearn.datasets import load_iris\n",
    "from sklearn.model_selection import train_test_split\n",
    "def accuracy(y_true,y_pred):\n",
    "    return np.sum(y_pred==y_true)/len(y_true)\n",
    "\n",
    "# Load iris dataset\n",
    "iris = load_iris()\n",
    "X, y = iris.data, iris.target\n",
    "class_names = iris.target_names\n",
    "X_train, X_test, y_train, y_test = train_test_split(X, y, test_size=0.3, random_state=1)\n",
    "nb = NaiveBayers()\n",
    "nb.fit(X_train, y_train)\n",
    "y_pred = nb.predictions(X_test)\n",
    "class_names[y_pred]\n",
    "print(accuracy(y_pred,y_test))"
   ]
  }
 ],
 "metadata": {
  "kernelspec": {
   "display_name": "Python 3 (ipykernel)",
   "language": "python",
   "name": "python3"
  },
  "language_info": {
   "codemirror_mode": {
    "name": "ipython",
    "version": 3
   },
   "file_extension": ".py",
   "mimetype": "text/x-python",
   "name": "python",
   "nbconvert_exporter": "python",
   "pygments_lexer": "ipython3",
   "version": "3.11.0"
  }
 },
 "nbformat": 4,
 "nbformat_minor": 5
}
